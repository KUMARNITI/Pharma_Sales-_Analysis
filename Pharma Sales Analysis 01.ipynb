{
 "cells": [
  {
   "cell_type": "code",
   "execution_count": 2,
   "id": "fa4bb5d4",
   "metadata": {},
   "outputs": [
    {
     "name": "stdout",
     "output_type": "stream",
     "text": [
      "749\n"
     ]
    }
   ],
   "source": [
    "# Import necessary libraries\n",
    "import pandas as pd\n",
    "\n",
    "# Load the datasets\n",
    "doctors_df = pd.read_excel(\"200 doct.xlsx\")\n",
    "hospital_1_df = pd.read_excel(\"hospital_1.xlsx\")\n",
    "\n",
    "# Identify hospitals affiliated with the top 200 target physicians\n",
    "affiliated_hospitals = hospital_1_df[hospital_1_df['Physician Name'].isin(doctors_df['Physician Name'])]['Hospital ID'].unique()\n",
    "\n",
    "# Calculate the total number of unique hospitals\n",
    "total_hospitals = hospital_1_df['Hospital ID'].nunique()\n",
    "\n",
    "# Calculate the number of hospitals without any of the top 200 target physicians\n",
    "hospitals_without_top_doctors = total_hospitals - len(affiliated_hospitals)\n",
    "\n",
    "# Print the result\n",
    "print(hospitals_without_top_doctors )"
   ]
  },
  {
   "cell_type": "code",
   "execution_count": null,
   "id": "f6520a70",
   "metadata": {},
   "outputs": [],
   "source": []
  }
 ],
 "metadata": {
  "kernelspec": {
   "display_name": "Python 3 (ipykernel)",
   "language": "python",
   "name": "python3"
  },
  "language_info": {
   "codemirror_mode": {
    "name": "ipython",
    "version": 3
   },
   "file_extension": ".py",
   "mimetype": "text/x-python",
   "name": "python",
   "nbconvert_exporter": "python",
   "pygments_lexer": "ipython3",
   "version": "3.10.9"
  }
 },
 "nbformat": 4,
 "nbformat_minor": 5
}
